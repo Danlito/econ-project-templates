{
 "metadata": {
  "name": ""
 },
 "nbformat": 3,
 "nbformat_minor": 0,
 "worksheets": [
  {
   "cells": [
    {
     "cell_type": "markdown",
     "metadata": {},
     "source": [
      "The ipython notebook is great to interactively play around with some things. Feedback is immediate and directly in front of you.\n",
      "\n",
      "Once settled on a model / specification, you can just export the code and use it in the \"normal\" workflow."
     ]
    },
    {
     "cell_type": "code",
     "collapsed": false,
     "input": [
      "# Do not delete this cell. It ensures that you can do the imports,\n",
      "# load datasets etc. in the same fashion as in any Python script\n",
      "# in the project template.\n",
      "import sys\n",
      "sys.path.insert(0, '../..')\n",
      "from bld.src.library.project_paths import project_paths_join as ppj"
     ],
     "language": "python",
     "metadata": {},
     "outputs": [],
     "prompt_number": 1
    },
    {
     "cell_type": "code",
     "collapsed": false,
     "input": [
      "import pandas as pd\n",
      "from matplotlib import pyplot as plt"
     ],
     "language": "python",
     "metadata": {},
     "outputs": [],
     "prompt_number": 2
    },
    {
     "cell_type": "code",
     "collapsed": false,
     "input": [
      "from src.analysis.schelling import setup_agents"
     ],
     "language": "python",
     "metadata": {},
     "outputs": [],
     "prompt_number": 3
    },
    {
     "cell_type": "code",
     "collapsed": false,
     "input": [
      "agents = setup_agents({\n",
      "    'n_types': 2,\n",
      "    'n_agents_by_type': [20, 10],\n",
      "    'n_neighbours': 5,\n",
      "    'require_same_type': 2,\n",
      "    'max_moves': 50\n",
      "})"
     ],
     "language": "python",
     "metadata": {},
     "outputs": [],
     "prompt_number": 4
    },
    {
     "cell_type": "code",
     "collapsed": false,
     "input": [
      "def sim_one_round():\n",
      "    someone_moved = False\n",
      "    for agent in agents:\n",
      "        old_location = agent.location\n",
      "        # If necessary, move around until happy\n",
      "        agent.move_until_happy(agents)\n",
      "        if not (agent.location == old_location).all():\n",
      "            someone_moved = True\n",
      "    return someone_moved"
     ],
     "language": "python",
     "metadata": {},
     "outputs": [],
     "prompt_number": 5
    },
    {
     "cell_type": "code",
     "collapsed": false,
     "input": [
      "locs_0 = pd.DataFrame(\n",
      "    [a.location for a in agents if a.type == 0],\n",
      "    columns=['x', 'y']\n",
      ")\n",
      "locs_1 = pd.DataFrame(\n",
      "    [a.location for a in agents if a.type == 1],\n",
      "    columns=['x', 'y']\n",
      ")\n",
      "ax = locs_0.plot(x='x', y='y', kind='scatter')\n",
      "ax.plot(locs_1['x'], locs_1['y'], \"o\", markerfacecolor=\"orange\")"
     ],
     "language": "python",
     "metadata": {},
     "outputs": [
      {
       "metadata": {},
       "output_type": "pyout",
       "prompt_number": 8,
       "text": [
        "[<matplotlib.lines.Line2D at 0x10a94d150>]"
       ]
      },
      {
       "metadata": {},
       "output_type": "display_data",
       "png": "[encoded data removed]",
       "text": [
        "<matplotlib.figure.Figure at 0x1028865d0>"
       ]
      }
     ],
     "prompt_number": 8
    },
    {
     "cell_type": "code",
     "collapsed": false,
     "input": [
      "sim_one_round()"
     ],
     "language": "python",
     "metadata": {},
     "outputs": [
      {
       "metadata": {},
       "output_type": "pyout",
       "prompt_number": 7,
       "text": [
        "True"
       ]
      }
     ],
     "prompt_number": 7
    }
   ],
   "metadata": {}
  }
 ]
}